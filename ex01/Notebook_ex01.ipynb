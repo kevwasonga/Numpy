{
 "cells": [
  {
   "cell_type": "code",
   "execution_count": null,
   "id": "f55feb9a",
   "metadata": {
    "vscode": {
     "languageId": "plaintext"
    }
   },
   "outputs": [
    {
     "name": "stdout",
     "output_type": "stream",
     "text": [
      "<class 'int'>\n",
      "<class 'float'>\n",
      "<class 'str'>\n",
      "<class 'dict'>\n",
      "<class 'list'>\n",
      "<class 'tuple'>\n",
      "<class 'set'>\n",
      "<class 'bool'>\n"
     ]
    }
   ],
   "source": [
    "import numpy as np\n",
    "\n",
    "my_array = np.array([\n",
    "    42,                   # int\n",
    "    3.14,                 # float\n",
    "    \"hello\",              # string\n",
    "    {\"key\": \"value\"},     # dict\n",
    "    [1, 2, 3],            # list\n",
    "    (4, 5, 6),            # tuple\n",
    "    {7, 8, 9},            # set\n",
    "    True                  # boolean\n",
    "], dtype=object)\n",
    "\n",
    "for i in my_array:\n",
    "    print(type(i))\n"
   ]
  },
  {
   "cell_type": "code",
   "execution_count": null,
   "id": "c240408e-cc84-4465-94ac-346a3d809595",
   "metadata": {},
   "outputs": [],
   "source": []
  }
 ],
 "metadata": {
  "kernelspec": {
   "display_name": "Python 3 (ipykernel)",
   "language": "python",
   "name": "python3"
  },
  "language_info": {
   "codemirror_mode": {
    "name": "ipython",
    "version": 3
   },
   "file_extension": ".py",
   "mimetype": "text/x-python",
   "name": "python",
   "nbconvert_exporter": "python",
   "pygments_lexer": "ipython3",
   "version": "3.8.18"
  }
 },
 "nbformat": 4,
 "nbformat_minor": 5
}
