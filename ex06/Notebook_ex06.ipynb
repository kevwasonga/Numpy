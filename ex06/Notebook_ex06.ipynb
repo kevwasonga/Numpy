{
 "cells": [
  {
   "cell_type": "code",
   "execution_count": 1,
   "id": "5c4ae327-c00c-49e1-97f4-02ea46057cac",
   "metadata": {},
   "outputs": [
    {
     "name": "stdout",
     "output_type": "stream",
     "text": [
      "9x9 Ones Array:\n",
      " [[1 1 1 1 1 1 1 1 1]\n",
      " [1 1 1 1 1 1 1 1 1]\n",
      " [1 1 1 1 1 1 1 1 1]\n",
      " [1 1 1 1 1 1 1 1 1]\n",
      " [1 1 1 1 1 1 1 1 1]\n",
      " [1 1 1 1 1 1 1 1 1]\n",
      " [1 1 1 1 1 1 1 1 1]\n",
      " [1 1 1 1 1 1 1 1 1]\n",
      " [1 1 1 1 1 1 1 1 1]] \n",
      "\n",
      "Maze-like Pattern:\n",
      " [[1 1 1 1 1 1 1 1 1]\n",
      " [1 0 0 0 0 0 0 0 1]\n",
      " [1 0 1 1 1 1 1 0 1]\n",
      " [1 0 1 0 0 0 1 0 1]\n",
      " [1 0 1 0 1 0 1 0 1]\n",
      " [1 0 1 0 0 0 1 0 1]\n",
      " [1 0 1 1 1 1 1 0 1]\n",
      " [1 0 0 0 0 0 0 0 1]\n",
      " [1 1 1 1 1 1 1 1 1]] \n",
      "\n",
      "Broadcasted Multiplication:\n",
      " [[ 1  2  3]\n",
      " [ 2  4  6]\n",
      " [ 3  6  9]\n",
      " [ 4  8 12]\n",
      " [ 5 10 15]]\n"
     ]
    }
   ],
   "source": [
    "import numpy as np\n",
    "\n",
    "# -------------------------------\n",
    "# Exercise 6: Broadcasting & Slicing\n",
    "# -------------------------------\n",
    "\n",
    "# 1. Generate a 9x9 array filled with ones\n",
    "arr = np.ones((9, 9), dtype=np.int8)\n",
    "print(\"9x9 Ones Array:\\n\", arr, \"\\n\")\n",
    "\n",
    "# 2. Modify using slicing to create maze-like pattern\n",
    "arr[1:-1, 1:-1] = 0   # inner block zeros\n",
    "arr[2:-2, 2:-2] = 1   # restore middle block of ones\n",
    "arr[3:-3, 3:-3] = 0   # carve inner zeros\n",
    "arr[4, 4] = 1         # restore center to one\n",
    "\n",
    "print(\"Maze-like Pattern:\\n\", arr, \"\\n\")\n",
    "\n",
    "# 3. Broadcasting example\n",
    "array_1 = np.array([1, 2, 3, 4, 5], dtype=np.int8).reshape(-1, 1)  # column vector\n",
    "array_2 = np.array([1, 2, 3], dtype=np.int8)                       # row vector\n",
    "result = array_1 * array_2\n",
    "\n",
    "print(\"Broadcasted Multiplication:\\n\", result)\n"
   ]
  },
  {
   "cell_type": "code",
   "execution_count": null,
   "id": "37d8cc6d-694e-461a-9bbc-99085eabe57a",
   "metadata": {},
   "outputs": [],
   "source": []
  }
 ],
 "metadata": {
  "kernelspec": {
   "display_name": "Python 3 (ipykernel)",
   "language": "python",
   "name": "python3"
  },
  "language_info": {
   "codemirror_mode": {
    "name": "ipython",
    "version": 3
   },
   "file_extension": ".py",
   "mimetype": "text/x-python",
   "name": "python",
   "nbconvert_exporter": "python",
   "pygments_lexer": "ipython3",
   "version": "3.8.18"
  }
 },
 "nbformat": 4,
 "nbformat_minor": 5
}
