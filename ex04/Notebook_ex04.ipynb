{
 "cells": [
  {
   "cell_type": "code",
   "execution_count": 3,
   "id": "2af3392c-f0a9-4a05-89b0-59098f15296d",
   "metadata": {
    "scrolled": true
   },
   "outputs": [
    {
     "name": "stdout",
     "output_type": "stream",
     "text": [
      "normal array [-0.17620087  0.18887636  0.82674718 -0.03244731 -0.65249942]\n",
      "2d [[ 9  8  4  6  9  1  3  2]\n",
      " [ 3  9  9  5  4  7  2  8]\n",
      " [ 5  6  9  1  1  6  8  7]\n",
      " [ 7  1  4  1 10  4  3  5]\n",
      " [ 5 10  1 10  7 10  6  1]\n",
      " [ 6  8  7  4  6 10  3  5]\n",
      " [ 4 10  7  9  9 10  9  9]\n",
      " [ 5  3  2 10  8  5  5  3]]\n",
      "3d [[[ 5  2 13 16 15]\n",
      "  [ 5  5  2 11  3]]\n",
      "\n",
      " [[ 8 13  6  4 17]\n",
      "  [ 2  8  1 13 10]]\n",
      "\n",
      " [[12 17 17 12  1]\n",
      "  [10  8 17  5 11]]\n",
      "\n",
      " [[ 9 14  2 15 13]\n",
      "  [12 14  6 14  2]]]\n"
     ]
    }
   ],
   "source": [
    "import numpy as np\n",
    "\n",
    "# Step 1: Seed\n",
    "np.random.seed(888)\n",
    "\n",
    "# Step 2: Normal distribution (1D, size 100)\n",
    "arr_normal = np.random.randn(100)\n",
    "\n",
    "# Step 3: Uniform integers 1–10 (2D, 8x8)\n",
    "arr_uniform_2d = np.random.randint(1, 11, size=(8, 8))\n",
    "\n",
    "# Step 4: Uniform integers 1–17 (3D, 4x2x5)\n",
    "arr_uniform_3d = np.random.randint(1, 18, size=(4, 2, 5))\n",
    "\n",
    "print(\"normal array\", arr_normal[:5])      # peek first 5 numbers\n",
    "\n",
    "print(\"2d\", arr_uniform_2d)      # 8x8 grid\n",
    "print(\"3d\", arr_uniform_3d)      # 3D \"cube\"\n"
   ]
  },
  {
   "cell_type": "code",
   "execution_count": null,
   "id": "37e460bc-88ec-4e08-96a5-d44854836a60",
   "metadata": {},
   "outputs": [],
   "source": []
  },
  {
   "cell_type": "code",
   "execution_count": null,
   "id": "a73bf1ab-566d-4917-9441-c0e78dc7c0d5",
   "metadata": {},
   "outputs": [],
   "source": []
  }
 ],
 "metadata": {
  "kernelspec": {
   "display_name": "Python 3 (ipykernel)",
   "language": "python",
   "name": "python3"
  },
  "language_info": {
   "codemirror_mode": {
    "name": "ipython",
    "version": 3
   },
   "file_extension": ".py",
   "mimetype": "text/x-python",
   "name": "python",
   "nbconvert_exporter": "python",
   "pygments_lexer": "ipython3",
   "version": "3.8.18"
  }
 },
 "nbformat": 4,
 "nbformat_minor": 5
}
