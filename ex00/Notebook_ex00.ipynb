{
 "cells": [
  {
   "cell_type": "markdown",
   "id": "f709712f-f439-4120-82ee-3c184158518f",
   "metadata": {},
   "source": [
    "# H1 TITLE"
   ]
  },
  {
   "cell_type": "markdown",
   "id": "3233d50b-a8a5-4ee8-bad9-7d37526144cc",
   "metadata": {},
   "source": [
    "## H2 TITLE"
   ]
  },
  {
   "cell_type": "code",
   "execution_count": null,
   "id": "f2f95e5b-471f-4b65-a3a7-5f7821221a63",
   "metadata": {},
   "outputs": [],
   "source": []
  },
  {
   "cell_type": "code",
   "execution_count": null,
   "id": "f015f94c-dfa6-4484-b32d-c4396f295d85",
   "metadata": {},
   "outputs": [],
   "source": []
  },
  {
   "cell_type": "code",
   "execution_count": null,
   "id": "53f4eb23-c251-4e30-b961-675c48946e7a",
   "metadata": {},
   "outputs": [],
   "source": []
  },
  {
   "cell_type": "code",
   "execution_count": null,
   "id": "abac1ac9-234c-492f-9d3d-8f8498bbf30f",
   "metadata": {},
   "outputs": [],
   "source": []
  },
  {
   "cell_type": "code",
   "execution_count": null,
   "id": "e0f9e4df-3809-4640-bce4-86cc57776c2a",
   "metadata": {},
   "outputs": [],
   "source": []
  },
  {
   "cell_type": "code",
   "execution_count": null,
   "id": "90c2e58c-ece3-4d12-b40f-25061a12ae49",
   "metadata": {},
   "outputs": [],
   "source": []
  },
  {
   "cell_type": "code",
   "execution_count": null,
   "id": "88328eea-c7dc-4880-976c-f993cdd72016",
   "metadata": {},
   "outputs": [],
   "source": []
  },
  {
   "cell_type": "code",
   "execution_count": null,
   "id": "94b70951-f353-4d61-89e9-88aa5e3ef10e",
   "metadata": {},
   "outputs": [],
   "source": []
  },
  {
   "cell_type": "code",
   "execution_count": null,
   "id": "ce9cdda8-a1e2-429c-8bee-9b0ee7746f8d",
   "metadata": {},
   "outputs": [],
   "source": []
  }
 ],
 "metadata": {
  "kernelspec": {
   "display_name": "Python 3 (ipykernel)",
   "language": "python",
   "name": "python3"
  },
  "language_info": {
   "codemirror_mode": {
    "name": "ipython",
    "version": 3
   },
   "file_extension": ".py",
   "mimetype": "text/x-python",
   "name": "python",
   "nbconvert_exporter": "python",
   "pygments_lexer": "ipython3",
   "version": "3.8.18"
  }
 },
 "nbformat": 4,
 "nbformat_minor": 5
}
