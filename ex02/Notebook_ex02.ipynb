{
 "cells": [
  {
   "cell_type": "code",
   "execution_count": 2,
   "id": "b6b732b1-0ea7-4493-acf3-c392a8ffda74",
   "metadata": {},
   "outputs": [
    {
     "name": "stdout",
     "output_type": "stream",
     "text": [
      "Original shape: (300,)\n"
     ]
    }
   ],
   "source": [
    "import numpy as np\n",
    "reshaped_array = zeros_array.reshape(3, 100)\n",
    "print(\"Reshaped shape:\", reshaped_array.shape)\n",
    "\n",
    "zeros_array = np.zeros(300)\n",
    "print(\"Original shape:\", zeros_array.shape)\n"
   ]
  },
  {
   "cell_type": "code",
   "execution_count": 3,
   "id": "fbab779e-27e4-4b1e-8b8d-f31f4b45245d",
   "metadata": {},
   "outputs": [
    {
     "name": "stdout",
     "output_type": "stream",
     "text": [
      "Reshaped shape: (3, 100)\n"
     ]
    }
   ],
   "source": [
    "reshaped_array = zeros_array.reshape(3, 100)\n",
    "print(\"Reshaped shape:\", reshaped_array.shape)\n"
   ]
  },
  {
   "cell_type": "code",
   "execution_count": null,
   "id": "51df8ed9-84e8-4cdd-b38b-b91ca459c4e7",
   "metadata": {},
   "outputs": [],
   "source": []
  }
 ],
 "metadata": {
  "kernelspec": {
   "display_name": "Python 3 (ipykernel)",
   "language": "python",
   "name": "python3"
  },
  "language_info": {
   "codemirror_mode": {
    "name": "ipython",
    "version": 3
   },
   "file_extension": ".py",
   "mimetype": "text/x-python",
   "name": "python",
   "nbconvert_exporter": "python",
   "pygments_lexer": "ipython3",
   "version": "3.8.18"
  }
 },
 "nbformat": 4,
 "nbformat_minor": 5
}
